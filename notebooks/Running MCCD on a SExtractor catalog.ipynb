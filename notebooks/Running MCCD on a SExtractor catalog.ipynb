{
 "cells": [
  {
   "cell_type": "code",
   "execution_count": 5,
   "metadata": {},
   "outputs": [],
   "source": [
    "import numpy as np\n",
    "import mccd.mccd_utils as mccd_utils\n",
    "import mccd.utils as utils\n",
    "import mccd.auxiliary_fun as mccd_aux\n",
    "import mccd\n",
    "from astropy.io import fits\n",
    "\n",
    "import random\n",
    "\n",
    "import matplotlib.pyplot as plt\n",
    "import matplotlib as mpl\n",
    "from mpl_toolkits.axes_grid1 import make_axes_locatable\n",
    "from matplotlib.colors import ListedColormap, LinearSegmentedColormap"
   ]
  },
  {
   "cell_type": "markdown",
   "metadata": {},
   "source": [
    "## Define plotting functions"
   ]
  },
  {
   "cell_type": "code",
   "execution_count": 14,
   "metadata": {},
   "outputs": [],
   "source": [
    "plt.rc('text', usetex=True)\n",
    "font = {'family' : 'serif',\n",
    "        'weight' : 'bold',\n",
    "        'size'   : 20}\n",
    "mpl.rc('font', **font)\n",
    "\n",
    "plot_style = {\n",
    "                'figure.figsize': (6,6),\n",
    "                'figure.dpi': 100,\n",
    "                'figure.autolayout':True,\n",
    "                'lines.linewidth': 4,\n",
    "                'lines.linestyle': '-',\n",
    "                'lines.marker': 'o',\n",
    "                'lines.markersize': 10,\n",
    "                'legend.fontsize': 20,\n",
    "                'legend.loc': 'best',\n",
    "                'axes.titlesize': 24,\n",
    "                'axes.grid': False,\n",
    "                'axes.grid.which': 'major',\n",
    "                'axes.grid.axis': 'both'}\n",
    "mpl.rcParams.update(plot_style)\n",
    "\n",
    "def plot_fun(star_img, cmap='gist_stern'):\n",
    "    fig = plt.figure()\n",
    "    ax1 = fig.add_subplot(111)\n",
    "    im1 = ax1.imshow(star_img, interpolation='None',cmap=cmap)\n",
    "    divider = make_axes_locatable(ax1)\n",
    "    cax = divider.append_axes(\"right\", size=\"5%\", pad=0.05)\n",
    "    cbar = fig.colorbar(im1, cax=cax, extend='both')\n",
    "    cbar.minorticks_on()\n",
    "    fig.tight_layout()\n",
    "    ax1.set_xticks([]);ax1.set_yticks([])\n",
    "    ax1.axis('off')\n",
    "    plt.show()\n",
    "\n",
    "loc2glob = mccd.mccd_utils.Loc2Glob()\n",
    "\n",
    "# Pre-defined colormap\n",
    "top = mpl.cm.get_cmap('Oranges_r', 128)\n",
    "bottom = mpl.cm.get_cmap('Blues', 128)\n",
    "newcolors = np.vstack((top(np.linspace(0, 1, 128)),\n",
    "                       bottom(np.linspace(0, 1, 128))))\n",
    "newcmp = ListedColormap(newcolors, name='OrangeBlue')"
   ]
  },
  {
   "cell_type": "markdown",
   "metadata": {},
   "source": [
    "# Preprocess the input catalogs"
   ]
  },
  {
   "cell_type": "code",
   "execution_count": 6,
   "metadata": {},
   "outputs": [],
   "source": [
    "input_folder_path = './../data/sextractor_inputs/'\n",
    "output_path = './../data/sextractor_preprocessed/'\n",
    "separator = '-'\n",
    "CCD_id_filter_list = None\n",
    "outlier_std_max = 100.\n",
    "save_masks = True\n",
    "save_extension = '.fits'\n",
    "verbose = True\n",
    "\n",
    "# Train catalog\n",
    "train_file_pattern = 'sexcat-*-*.fits'\n",
    "train_save_name = 'train_star_selection'\n",
    "train_min_n_stars = 20\n",
    "\n",
    "# Test catalog\n",
    "test_file_pattern = 'test-star_selection-*-*.fits'\n",
    "test_save_name = 'test_star_selection'\n",
    "test_min_n_stars = 5\n"
   ]
  },
  {
   "cell_type": "code",
   "execution_count": 3,
   "metadata": {},
   "outputs": [
    {
     "name": "stdout",
     "output_type": "stream",
     "text": [
      "Processing dataset..\n",
      "Extracting catalog_id 2086592 ..\n",
      "[]\n",
      "(0,)\n",
      "Finished the training dataset processing.\n",
      "Total stars processed = 6898\n",
      "Processing dataset..\n",
      "Extracting catalog_id 2086592 ..\n",
      "[]\n",
      "(0,)\n",
      "Finished the training dataset processing.\n",
      "Total stars processed = 2000\n"
     ]
    }
   ],
   "source": [
    "# Preprocess training dataset\n",
    "mccd_aux.mccd_preprocessing(input_folder_path=input_folder_path,\n",
    "                            output_path=output_path,\n",
    "                            min_n_stars=train_min_n_stars,\n",
    "                            file_pattern=train_file_pattern,\n",
    "                            separator=separator,\n",
    "                            CCD_id_filter_list=CCD_id_filter_list,\n",
    "                            outlier_std_max=outlier_std_max,\n",
    "                            save_masks=save_masks,\n",
    "                            save_name=train_save_name,\n",
    "                            save_extension=save_extension,\n",
    "                            verbose=verbose)\n",
    "    \n",
    "# Preprocess testing dataset\n",
    "mccd_aux.mccd_preprocessing(input_folder_path=input_folder_path,\n",
    "                            output_path=output_path,\n",
    "                            min_n_stars=test_min_n_stars,\n",
    "                            file_pattern=test_file_pattern,\n",
    "                            separator=separator,\n",
    "                            CCD_id_filter_list=CCD_id_filter_list,\n",
    "                            outlier_std_max=outlier_std_max,\n",
    "                            save_masks=save_masks,\n",
    "                            save_name=test_save_name,\n",
    "                            save_extension=save_extension,\n",
    "                            verbose=verbose)\n",
    "\n"
   ]
  },
  {
   "cell_type": "markdown",
   "metadata": {},
   "source": [
    "# Train the MCCD model"
   ]
  },
  {
   "cell_type": "markdown",
   "metadata": {},
   "source": [
    "### Define the MCCD model parameters"
   ]
  },
  {
   "cell_type": "code",
   "execution_count": 7,
   "metadata": {},
   "outputs": [],
   "source": [
    "# Parameters\n",
    "\n",
    "# MCCD instance\n",
    "n_comp_loc = 12\n",
    "d_comp_glob = 4\n",
    "filters = None\n",
    "ksig_loc = 1.\n",
    "ksig_glob = 1.\n",
    "\n",
    "# MCCD fit\n",
    "psf_size = 6.15\n",
    "psf_size_type = 'R2'\n",
    "n_eigenvects = 5\n",
    "n_iter_rca = 1\n",
    "nb_iter_glob = 2 \n",
    "nb_iter_loc = 2\n",
    "nb_subiter_S_loc = 100\n",
    "nb_subiter_A_loc = 500\n",
    "nb_subiter_S_glob = 30\n",
    "nb_subiter_A_glob = 200\n",
    "loc_model = 'hybrid'\n",
    "\n",
    "\n",
    "# Build the paramter dictionaries\n",
    "mccd_inst_kw = {'n_comp_loc': n_comp_loc, 'd_comp_glob': d_comp_glob,\n",
    "                'filters': filters,       'ksig_loc': ksig_loc,\n",
    "                'ksig_glob':ksig_glob}\n",
    "\n",
    "mccd_fit_kw = {'psf_size': psf_size,                  'psf_size_type':psf_size_type,\n",
    "              'n_eigenvects': n_eigenvects,          'nb_iter':n_iter_rca,\n",
    "              'nb_iter_glob':nb_iter_glob,           'nb_iter_loc':nb_iter_loc,\n",
    "              'nb_subiter_S_loc':nb_subiter_S_loc,   'nb_subiter_A_loc':nb_subiter_A_loc,\n",
    "              'nb_subiter_S_glob':nb_subiter_S_glob, 'nb_subiter_A_glob':nb_subiter_A_glob,\n",
    "              'loc_model':loc_model}\n"
   ]
  },
  {
   "cell_type": "markdown",
   "metadata": {},
   "source": [
    "### Run  the training"
   ]
  },
  {
   "cell_type": "code",
   "execution_count": 8,
   "metadata": {},
   "outputs": [
    {
     "name": "stdout",
     "output_type": "stream",
     "text": [
      "No SNR weights are being used.\n",
      "Running basic initialization tasks...\n",
      "... Done.\n",
      "Constructing local spatial constraint...\n"
     ]
    },
    {
     "name": "stderr",
     "output_type": "stream",
     "text": [
      "/Users/tliaudat/opt/anaconda3/envs/mccd_env/lib/python3.6/site-packages/mccd-0.0.1-py3.6.egg/mccd/utils.py:523: FutureWarning: arrays to stack must be passed as a \"sequence\" type such as list or tuple. Support for non-sequence iterables such as generators is deprecated as of NumPy 1.16 and will raise an error in the future.\n"
     ]
    },
    {
     "name": "stdout",
     "output_type": "stream",
     "text": [
      "... Done.\n",
      "Building position polynomials...\n",
      "... Done.\n"
     ]
    },
    {
     "name": "stderr",
     "output_type": "stream",
     "text": [
      "\u001b[33mWARNING\u001b[0m: Making input data immutable.\n",
      "\u001b[33mWARNING\u001b[0m: Making input data immutable.\n",
      "\u001b[33mWARNING\u001b[0m: Making input data immutable.\n",
      "\u001b[33mWARNING\u001b[0m: Making input data immutable.\n",
      "\u001b[33mWARNING\u001b[0m: Making input data immutable.\n",
      "\u001b[33mWARNING\u001b[0m: Making input data immutable.\n",
      "\u001b[33mWARNING\u001b[0m: Making input data immutable.\n",
      "\u001b[33mWARNING\u001b[0m: Making input data immutable.\n",
      "\u001b[33mWARNING\u001b[0m: Making input data immutable.\n",
      "\u001b[33mWARNING\u001b[0m: Making input data immutable.\n",
      "\u001b[33mWARNING\u001b[0m: Making input data immutable.\n",
      "\u001b[33mWARNING\u001b[0m: Making input data immutable.\n",
      "\u001b[33mWARNING\u001b[0m: Making input data immutable.\n",
      "\u001b[33mWARNING\u001b[0m: Making input data immutable.\n",
      "\u001b[33mWARNING\u001b[0m: Making input data immutable.\n",
      "\u001b[33mWARNING\u001b[0m: Making input data immutable.\n",
      "\u001b[33mWARNING\u001b[0m: Making input data immutable.\n",
      "\u001b[33mWARNING\u001b[0m: Making input data immutable.\n",
      "\u001b[33mWARNING\u001b[0m: Making input data immutable.\n",
      "\u001b[33mWARNING\u001b[0m: Making input data immutable.\n",
      "\u001b[33mWARNING\u001b[0m: Making input data immutable.\n",
      "\u001b[33mWARNING\u001b[0m: Making input data immutable.\n",
      "\u001b[33mWARNING\u001b[0m: Making input data immutable.\n",
      "\u001b[33mWARNING\u001b[0m: Making input data immutable.\n",
      "\u001b[33mWARNING\u001b[0m: Making input data immutable.\n",
      "\u001b[33mWARNING\u001b[0m: Making input data immutable.\n",
      "\u001b[33mWARNING\u001b[0m: Making input data immutable.\n",
      "\u001b[33mWARNING\u001b[0m: Making input data immutable.\n",
      "\u001b[33mWARNING\u001b[0m: Making input data immutable.\n",
      "\u001b[33mWARNING\u001b[0m: Making input data immutable.\n",
      "\u001b[33mWARNING\u001b[0m: Making input data immutable.\n",
      "\u001b[33mWARNING\u001b[0m: Making input data immutable.\n",
      "\u001b[33mWARNING\u001b[0m: Making input data immutable.\n",
      "\u001b[33mWARNING\u001b[0m: Making input data immutable.\n",
      "\u001b[33mWARNING\u001b[0m: Making input data immutable.\n",
      "\u001b[33mWARNING\u001b[0m: Making input data immutable.\n",
      "\u001b[33mWARNING\u001b[0m: Making input data immutable.\n",
      "\u001b[33mWARNING\u001b[0m: Making input data immutable.\n",
      "\u001b[33mWARNING\u001b[0m: Making input data immutable.\n",
      "\u001b[33mWARNING\u001b[0m: Making input data immutable.\n",
      "\u001b[33mWARNING\u001b[0m: Making input data immutable.\n",
      "\u001b[33mWARNING\u001b[0m: Making input data immutable.\n",
      "100% (30 of 30) |########################| Elapsed Time: 0:04:00 Time:  0:04:00\n",
      "100% (200 of 200) |######################| Elapsed Time: 0:10:59 Time:  0:10:59\n",
      "100% (30 of 30) |########################| Elapsed Time: 0:04:21 Time:  0:04:21\n",
      "100% (200 of 200) |######################| Elapsed Time: 0:11:22 Time:  0:11:22\n",
      "100% (100 of 100) |######################| Elapsed Time: 0:00:28 Time:  0:00:28\n",
      "100% (500 of 500) |######################| Elapsed Time: 0:00:14 Time:  0:00:14\n",
      "100% (100 of 100) |######################| Elapsed Time: 0:00:32 Time:  0:00:32\n",
      "100% (500 of 500) |######################| Elapsed Time: 0:00:17 Time:  0:00:17\n",
      "100% (100 of 100) |######################| Elapsed Time: 0:00:35 Time:  0:00:35\n",
      "100% (500 of 500) |######################| Elapsed Time: 0:00:20 Time:  0:00:20\n",
      "100% (100 of 100) |######################| Elapsed Time: 0:00:39 Time:  0:00:39\n",
      "100% (500 of 500) |######################| Elapsed Time: 0:00:24 Time:  0:00:24\n",
      "100% (100 of 100) |######################| Elapsed Time: 0:00:34 Time:  0:00:34\n",
      "100% (500 of 500) |######################| Elapsed Time: 0:00:20 Time:  0:00:20\n",
      "100% (100 of 100) |######################| Elapsed Time: 0:00:34 Time:  0:00:34\n",
      "100% (500 of 500) |######################| Elapsed Time: 0:00:20 Time:  0:00:20\n",
      "100% (100 of 100) |######################| Elapsed Time: 0:00:34 Time:  0:00:34\n",
      "100% (500 of 500) |######################| Elapsed Time: 0:00:18 Time:  0:00:18\n",
      "100% (100 of 100) |######################| Elapsed Time: 0:00:30 Time:  0:00:30\n",
      "100% (500 of 500) |######################| Elapsed Time: 0:00:15 Time:  0:00:15\n",
      "100% (100 of 100) |######################| Elapsed Time: 0:00:24 Time:  0:00:24\n",
      "100% (500 of 500) |######################| Elapsed Time: 0:00:11 Time:  0:00:11\n",
      "100% (100 of 100) |######################| Elapsed Time: 0:00:35 Time:  0:00:35\n",
      "100% (500 of 500) |######################| Elapsed Time: 0:00:20 Time:  0:00:20\n",
      "100% (100 of 100) |######################| Elapsed Time: 0:00:32 Time:  0:00:32\n",
      "100% (500 of 500) |######################| Elapsed Time: 0:00:17 Time:  0:00:17\n",
      "100% (100 of 100) |######################| Elapsed Time: 0:00:35 Time:  0:00:35\n",
      "100% (500 of 500) |######################| Elapsed Time: 0:00:20 Time:  0:00:20\n",
      "100% (100 of 100) |######################| Elapsed Time: 0:00:29 Time:  0:00:29\n",
      "100% (500 of 500) |######################| Elapsed Time: 0:00:16 Time:  0:00:16\n",
      "100% (100 of 100) |######################| Elapsed Time: 0:00:32 Time:  0:00:32\n",
      "100% (500 of 500) |######################| Elapsed Time: 0:00:18 Time:  0:00:18\n",
      "100% (100 of 100) |######################| Elapsed Time: 0:00:35 Time:  0:00:35\n",
      "100% (500 of 500) |######################| Elapsed Time: 0:00:19 Time:  0:00:19\n",
      "100% (100 of 100) |######################| Elapsed Time: 0:00:30 Time:  0:00:30\n",
      "100% (500 of 500) |######################| Elapsed Time: 0:00:16 Time:  0:00:16\n",
      "100% (100 of 100) |######################| Elapsed Time: 0:00:35 Time:  0:00:35\n",
      "100% (500 of 500) |######################| Elapsed Time: 0:00:20 Time:  0:00:20\n",
      "100% (100 of 100) |######################| Elapsed Time: 0:00:34 Time:  0:00:34\n",
      "100% (500 of 500) |######################| Elapsed Time: 0:00:19 Time:  0:00:19\n",
      "100% (100 of 100) |######################| Elapsed Time: 0:00:32 Time:  0:00:32\n",
      "100% (500 of 500) |######################| Elapsed Time: 0:00:19 Time:  0:00:19\n",
      "100% (100 of 100) |######################| Elapsed Time: 0:00:32 Time:  0:00:32\n",
      "100% (500 of 500) |######################| Elapsed Time: 0:00:19 Time:  0:00:19\n",
      "100% (100 of 100) |######################| Elapsed Time: 0:00:32 Time:  0:00:32\n",
      "100% (500 of 500) |######################| Elapsed Time: 0:00:17 Time:  0:00:17\n",
      "100% (100 of 100) |######################| Elapsed Time: 0:00:30 Time:  0:00:30\n",
      "100% (500 of 500) |######################| Elapsed Time: 0:00:20 Time:  0:00:20\n",
      "100% (100 of 100) |######################| Elapsed Time: 0:00:37 Time:  0:00:37\n",
      "100% (500 of 500) |######################| Elapsed Time: 0:00:19 Time:  0:00:19\n",
      "100% (100 of 100) |######################| Elapsed Time: 0:00:39 Time:  0:00:39\n",
      "100% (500 of 500) |######################| Elapsed Time: 0:00:20 Time:  0:00:20\n",
      "100% (100 of 100) |######################| Elapsed Time: 0:00:34 Time:  0:00:34\n",
      "100% (500 of 500) |######################| Elapsed Time: 0:00:17 Time:  0:00:17\n",
      "100% (100 of 100) |######################| Elapsed Time: 0:00:33 Time:  0:00:33\n",
      "100% (500 of 500) |######################| Elapsed Time: 0:00:18 Time:  0:00:18\n",
      "100% (100 of 100) |######################| Elapsed Time: 0:00:28 Time:  0:00:28\n",
      "100% (500 of 500) |######################| Elapsed Time: 0:00:14 Time:  0:00:14\n",
      "100% (100 of 100) |######################| Elapsed Time: 0:00:30 Time:  0:00:30\n",
      "100% (500 of 500) |######################| Elapsed Time: 0:00:15 Time:  0:00:15\n",
      "100% (100 of 100) |######################| Elapsed Time: 0:00:35 Time:  0:00:35\n",
      "100% (500 of 500) |######################| Elapsed Time: 0:00:18 Time:  0:00:18\n",
      "100% (100 of 100) |######################| Elapsed Time: 0:00:32 Time:  0:00:32\n",
      "100% (500 of 500) |######################| Elapsed Time: 0:00:18 Time:  0:00:18\n",
      "100% (100 of 100) |######################| Elapsed Time: 0:00:34 Time:  0:00:34\n",
      "100% (500 of 500) |######################| Elapsed Time: 0:00:18 Time:  0:00:18\n",
      "100% (100 of 100) |######################| Elapsed Time: 0:00:34 Time:  0:00:34\n",
      "100% (500 of 500) |######################| Elapsed Time: 0:00:20 Time:  0:00:20\n",
      "100% (100 of 100) |######################| Elapsed Time: 0:00:30 Time:  0:00:30\n",
      "100% (500 of 500) |######################| Elapsed Time: 0:00:16 Time:  0:00:16\n",
      "100% (100 of 100) |######################| Elapsed Time: 0:00:32 Time:  0:00:32\n",
      "100% (500 of 500) |######################| Elapsed Time: 0:00:18 Time:  0:00:18\n",
      "100% (100 of 100) |######################| Elapsed Time: 0:00:28 Time:  0:00:28\n",
      "100% (500 of 500) |######################| Elapsed Time: 0:00:13 Time:  0:00:13\n",
      "100% (100 of 100) |######################| Elapsed Time: 0:00:24 Time:  0:00:24\n",
      "100% (500 of 500) |######################| Elapsed Time: 0:00:11 Time:  0:00:11\n",
      "100% (100 of 100) |######################| Elapsed Time: 0:00:36 Time:  0:00:36\n"
     ]
    },
    {
     "name": "stderr",
     "output_type": "stream",
     "text": [
      "100% (500 of 500) |######################| Elapsed Time: 0:00:21 Time:  0:00:21\n",
      "100% (100 of 100) |######################| Elapsed Time: 0:00:29 Time:  0:00:29\n",
      "100% (500 of 500) |######################| Elapsed Time: 0:00:15 Time:  0:00:15\n",
      "100% (100 of 100) |######################| Elapsed Time: 0:00:29 Time:  0:00:29\n",
      "100% (500 of 500) |######################| Elapsed Time: 0:00:15 Time:  0:00:15\n",
      "100% (100 of 100) |######################| Elapsed Time: 0:00:27 Time:  0:00:27\n",
      "100% (500 of 500) |######################| Elapsed Time: 0:00:13 Time:  0:00:13\n",
      "100% (100 of 100) |######################| Elapsed Time: 0:00:25 Time:  0:00:25\n",
      "100% (500 of 500) |######################| Elapsed Time: 0:00:13 Time:  0:00:13\n",
      "100% (100 of 100) |######################| Elapsed Time: 0:00:30 Time:  0:00:30\n",
      "100% (500 of 500) |######################| Elapsed Time: 0:00:15 Time:  0:00:15\n",
      "100% (100 of 100) |######################| Elapsed Time: 0:00:34 Time:  0:00:34\n",
      "100% (500 of 500) |######################| Elapsed Time: 0:00:17 Time:  0:00:17\n",
      "100% (100 of 100) |######################| Elapsed Time: 0:00:36 Time:  0:00:36\n",
      "100% (500 of 500) |######################| Elapsed Time: 0:00:20 Time:  0:00:20\n",
      "100% (100 of 100) |######################| Elapsed Time: 0:00:32 Time:  0:00:32\n",
      "100% (500 of 500) |######################| Elapsed Time: 0:00:17 Time:  0:00:17\n",
      "100% (100 of 100) |######################| Elapsed Time: 0:00:32 Time:  0:00:32\n",
      "100% (500 of 500) |######################| Elapsed Time: 0:00:19 Time:  0:00:19\n",
      "100% (100 of 100) |######################| Elapsed Time: 0:00:31 Time:  0:00:31\n",
      "100% (500 of 500) |######################| Elapsed Time: 0:00:16 Time:  0:00:16\n",
      "100% (100 of 100) |######################| Elapsed Time: 0:00:30 Time:  0:00:30\n",
      "100% (500 of 500) |######################| Elapsed Time: 0:00:16 Time:  0:00:16\n",
      "100% (100 of 100) |######################| Elapsed Time: 0:00:23 Time:  0:00:23\n",
      "100% (500 of 500) |######################| Elapsed Time: 0:00:11 Time:  0:00:11\n",
      "100% (100 of 100) |######################| Elapsed Time: 0:00:34 Time:  0:00:34\n",
      "100% (500 of 500) |######################| Elapsed Time: 0:00:19 Time:  0:00:19\n",
      "100% (100 of 100) |######################| Elapsed Time: 0:00:31 Time:  0:00:31\n",
      "100% (500 of 500) |######################| Elapsed Time: 0:00:16 Time:  0:00:16\n",
      "100% (100 of 100) |######################| Elapsed Time: 0:00:32 Time:  0:00:32\n",
      "100% (500 of 500) |######################| Elapsed Time: 0:00:17 Time:  0:00:17\n",
      "100% (100 of 100) |######################| Elapsed Time: 0:00:29 Time:  0:00:29\n",
      "100% (500 of 500) |######################| Elapsed Time: 0:00:14 Time:  0:00:14\n",
      "100% (100 of 100) |######################| Elapsed Time: 0:00:31 Time:  0:00:31\n",
      "100% (500 of 500) |######################| Elapsed Time: 0:00:17 Time:  0:00:17\n",
      "100% (100 of 100) |######################| Elapsed Time: 0:00:32 Time:  0:00:32\n",
      "100% (500 of 500) |######################| Elapsed Time: 0:00:17 Time:  0:00:17\n",
      "100% (100 of 100) |######################| Elapsed Time: 0:00:29 Time:  0:00:29\n",
      "100% (500 of 500) |######################| Elapsed Time: 0:00:15 Time:  0:00:15\n",
      "100% (100 of 100) |######################| Elapsed Time: 0:00:34 Time:  0:00:34\n",
      "100% (500 of 500) |######################| Elapsed Time: 0:00:19 Time:  0:00:19\n",
      "100% (100 of 100) |######################| Elapsed Time: 0:00:33 Time:  0:00:33\n",
      "100% (500 of 500) |######################| Elapsed Time: 0:00:18 Time:  0:00:18\n",
      "100% (100 of 100) |######################| Elapsed Time: 0:00:31 Time:  0:00:31\n",
      "100% (500 of 500) |######################| Elapsed Time: 0:00:17 Time:  0:00:17\n",
      "100% (100 of 100) |######################| Elapsed Time: 0:00:32 Time:  0:00:32\n",
      "100% (500 of 500) |######################| Elapsed Time: 0:00:18 Time:  0:00:18\n",
      "100% (100 of 100) |######################| Elapsed Time: 0:00:32 Time:  0:00:32\n",
      "100% (500 of 500) |######################| Elapsed Time: 0:00:17 Time:  0:00:17\n",
      "100% (100 of 100) |######################| Elapsed Time: 0:00:30 Time:  0:00:30\n",
      "100% (500 of 500) |######################| Elapsed Time: 0:00:16 Time:  0:00:16\n",
      "100% (100 of 100) |######################| Elapsed Time: 0:00:32 Time:  0:00:32\n",
      "100% (500 of 500) |######################| Elapsed Time: 0:00:17 Time:  0:00:17\n",
      "100% (100 of 100) |######################| Elapsed Time: 0:00:35 Time:  0:00:35\n",
      "100% (500 of 500) |######################| Elapsed Time: 0:00:20 Time:  0:00:20\n",
      "100% (100 of 100) |######################| Elapsed Time: 0:00:30 Time:  0:00:30\n",
      "100% (500 of 500) |######################| Elapsed Time: 0:00:16 Time:  0:00:16\n",
      "100% (100 of 100) |######################| Elapsed Time: 0:00:31 Time:  0:00:31\n",
      "100% (500 of 500) |######################| Elapsed Time: 0:00:17 Time:  0:00:17\n",
      "100% (100 of 100) |######################| Elapsed Time: 0:00:27 Time:  0:00:27\n",
      "100% (500 of 500) |######################| Elapsed Time: 0:00:13 Time:  0:00:13\n",
      "100% (100 of 100) |######################| Elapsed Time: 0:00:29 Time:  0:00:29\n",
      "100% (500 of 500) |######################| Elapsed Time: 0:00:15 Time:  0:00:15\n",
      "100% (100 of 100) |######################| Elapsed Time: 0:00:33 Time:  0:00:33\n",
      "100% (500 of 500) |######################| Elapsed Time: 0:00:17 Time:  0:00:17\n",
      "100% (100 of 100) |######################| Elapsed Time: 0:00:30 Time:  0:00:30\n",
      "100% (500 of 500) |######################| Elapsed Time: 0:00:16 Time:  0:00:16\n",
      "100% (100 of 100) |######################| Elapsed Time: 0:00:32 Time:  0:00:32\n",
      "100% (500 of 500) |######################| Elapsed Time: 0:00:18 Time:  0:00:18\n",
      "  1% (1 of 100) |                        | Elapsed Time: 0:00:00 ETA:   0:00:34\n"
     ]
    },
    {
     "ename": "KeyboardInterrupt",
     "evalue": "",
     "output_type": "error",
     "traceback": [
      "\u001b[0;31m---------------------------------------------------------------------------\u001b[0m",
      "\u001b[0;31mKeyboardInterrupt\u001b[0m                         Traceback (most recent call last)",
      "\u001b[0;32m<ipython-input-8-32f82f15ee89>\u001b[0m in \u001b[0;36m<module>\u001b[0;34m()\u001b[0m\n\u001b[1;32m     11\u001b[0m mccd_aux.mccd_fit(starcat=train_starcat, mccd_inst_kw=mccd_inst_kw, mccd_fit_kw=mccd_fit_kw,\n\u001b[1;32m     12\u001b[0m          \u001b[0moutput_dir\u001b[0m\u001b[0;34m=\u001b[0m\u001b[0moutput_dir\u001b[0m\u001b[0;34m,\u001b[0m \u001b[0mcatalog_id\u001b[0m\u001b[0;34m=\u001b[0m\u001b[0mcatalog_id\u001b[0m\u001b[0;34m,\u001b[0m \u001b[0msex_thresh\u001b[0m\u001b[0;34m=\u001b[0m\u001b[0;34m-\u001b[0m\u001b[0;36m1e5\u001b[0m\u001b[0;34m,\u001b[0m \u001b[0muse_SNR_weight\u001b[0m\u001b[0;34m=\u001b[0m\u001b[0;32mFalse\u001b[0m\u001b[0;34m,\u001b[0m\u001b[0;34m\u001b[0m\u001b[0;34m\u001b[0m\u001b[0m\n\u001b[0;32m---> 13\u001b[0;31m          verbose=verbose)\n\u001b[0m",
      "\u001b[0;32m/Users/tliaudat/opt/anaconda3/envs/mccd_env/lib/python3.6/site-packages/mccd-0.0.1-py3.6.egg/mccd/auxiliary_fun.py\u001b[0m in \u001b[0;36mmccd_fit\u001b[0;34m(starcat, mccd_inst_kw, mccd_fit_kw, output_dir, catalog_id, sex_thresh, use_SNR_weight, verbose)\u001b[0m\n\u001b[1;32m    503\u001b[0m     _, _, _, _, _ = mccd_instance.fit(\n\u001b[1;32m    504\u001b[0m         \u001b[0mstar_list\u001b[0m\u001b[0;34m,\u001b[0m \u001b[0mpos_list\u001b[0m\u001b[0;34m,\u001b[0m \u001b[0mccd_list\u001b[0m\u001b[0;34m,\u001b[0m \u001b[0mmask_list\u001b[0m\u001b[0;34m,\u001b[0m\u001b[0;34m\u001b[0m\u001b[0;34m\u001b[0m\u001b[0m\n\u001b[0;32m--> 505\u001b[0;31m         SNR_weight_list, **mccd_fit_kw)\n\u001b[0m\u001b[1;32m    506\u001b[0m \u001b[0;34m\u001b[0m\u001b[0m\n\u001b[1;32m    507\u001b[0m     \u001b[0mfitted_model_path\u001b[0m \u001b[0;34m=\u001b[0m \u001b[0moutput_dir\u001b[0m \u001b[0;34m+\u001b[0m \u001b[0;34m'/fitted_model'\u001b[0m \u001b[0;34m+\u001b[0m\u001b[0;31m \u001b[0m\u001b[0;31m\\\u001b[0m\u001b[0;34m\u001b[0m\u001b[0;34m\u001b[0m\u001b[0m\n",
      "\u001b[0;32m/Users/tliaudat/opt/anaconda3/envs/mccd_env/lib/python3.6/site-packages/mccd-0.0.1-py3.6.egg/mccd/mccd.py\u001b[0m in \u001b[0;36mfit\u001b[0;34m(self, obs_data, obs_pos, ccd_list, obs_weights, SNR_weight_list, S, VT, Pi, alpha, shifts, sigs, psf_size, psf_size_type, flux, nb_iter, nb_iter_glob, nb_iter_loc, nb_subiter_S_loc, nb_reweight, nb_subiter_A_loc, nb_subiter_S_glob, nb_subiter_A_glob, n_eigenvects, loc_model, pi_degree, graph_kwargs)\u001b[0m\n\u001b[1;32m    474\u001b[0m \u001b[0;34m\u001b[0m\u001b[0m\n\u001b[1;32m    475\u001b[0m         \u001b[0;31m# Finally fit the model\u001b[0m\u001b[0;34m\u001b[0m\u001b[0;34m\u001b[0m\u001b[0;34m\u001b[0m\u001b[0m\n\u001b[0;32m--> 476\u001b[0;31m         \u001b[0mself\u001b[0m\u001b[0;34m.\u001b[0m\u001b[0m_fit\u001b[0m\u001b[0;34m(\u001b[0m\u001b[0;34m)\u001b[0m\u001b[0;34m\u001b[0m\u001b[0;34m\u001b[0m\u001b[0m\n\u001b[0m\u001b[1;32m    477\u001b[0m         \u001b[0mself\u001b[0m\u001b[0;34m.\u001b[0m\u001b[0mis_fitted\u001b[0m \u001b[0;34m=\u001b[0m \u001b[0;32mTrue\u001b[0m\u001b[0;34m\u001b[0m\u001b[0;34m\u001b[0m\u001b[0m\n\u001b[1;32m    478\u001b[0m         \u001b[0;32mreturn\u001b[0m \u001b[0mself\u001b[0m\u001b[0;34m.\u001b[0m\u001b[0mS\u001b[0m\u001b[0;34m,\u001b[0m \u001b[0mself\u001b[0m\u001b[0;34m.\u001b[0m\u001b[0mA_loc\u001b[0m\u001b[0;34m,\u001b[0m \u001b[0mself\u001b[0m\u001b[0;34m.\u001b[0m\u001b[0mA_glob\u001b[0m\u001b[0;34m,\u001b[0m \u001b[0mself\u001b[0m\u001b[0;34m.\u001b[0m\u001b[0malpha\u001b[0m\u001b[0;34m,\u001b[0m \u001b[0mself\u001b[0m\u001b[0;34m.\u001b[0m\u001b[0mPi\u001b[0m\u001b[0;34m\u001b[0m\u001b[0;34m\u001b[0m\u001b[0m\n",
      "\u001b[0;32m/Users/tliaudat/opt/anaconda3/envs/mccd_env/lib/python3.6/site-packages/mccd-0.0.1-py3.6.egg/mccd/mccd.py\u001b[0m in \u001b[0;36m_fit\u001b[0;34m(self)\u001b[0m\n\u001b[1;32m   1017\u001b[0m                             \u001b[0mcost\u001b[0m\u001b[0;34m=\u001b[0m\u001b[0msource_loc_cost\u001b[0m\u001b[0;34m[\u001b[0m\u001b[0mk\u001b[0m\u001b[0;34m]\u001b[0m\u001b[0;34m,\u001b[0m\u001b[0;34m\u001b[0m\u001b[0;34m\u001b[0m\u001b[0m\n\u001b[1;32m   1018\u001b[0m                             \u001b[0mmax_iter\u001b[0m\u001b[0;34m=\u001b[0m\u001b[0mself\u001b[0m\u001b[0;34m.\u001b[0m\u001b[0mnb_subiter_S_loc\u001b[0m\u001b[0;34m,\u001b[0m\u001b[0;34m\u001b[0m\u001b[0;34m\u001b[0m\u001b[0m\n\u001b[0;32m-> 1019\u001b[0;31m                             tau=tau, sigma=sigma)\n\u001b[0m\u001b[1;32m   1020\u001b[0m                         \u001b[0mtransf_comp\u001b[0m\u001b[0;34m[\u001b[0m\u001b[0mk\u001b[0m\u001b[0;34m]\u001b[0m \u001b[0;34m=\u001b[0m \u001b[0msource_optim\u001b[0m\u001b[0;34m.\u001b[0m\u001b[0mx_final\u001b[0m\u001b[0;34m\u001b[0m\u001b[0;34m\u001b[0m\u001b[0m\n\u001b[1;32m   1021\u001b[0m \u001b[0;34m\u001b[0m\u001b[0m\n",
      "\u001b[0;32m/Users/tliaudat/opt/anaconda3/envs/mccd_env/lib/python3.6/site-packages/modopt/opt/algorithms.py\u001b[0m in \u001b[0;36m__init__\u001b[0;34m(self, x, y, grad, prox, prox_dual, linear, cost, reweight, rho, sigma, tau, rho_update, sigma_update, tau_update, auto_iterate, max_iter, n_rewightings, metric_call_period, metrics, **kwargs)\u001b[0m\n\u001b[1;32m   1047\u001b[0m         \u001b[0;31m# Automatically run the algorithm\u001b[0m\u001b[0;34m\u001b[0m\u001b[0;34m\u001b[0m\u001b[0;34m\u001b[0m\u001b[0m\n\u001b[1;32m   1048\u001b[0m         \u001b[0;32mif\u001b[0m \u001b[0mauto_iterate\u001b[0m\u001b[0;34m:\u001b[0m\u001b[0;34m\u001b[0m\u001b[0;34m\u001b[0m\u001b[0m\n\u001b[0;32m-> 1049\u001b[0;31m             \u001b[0mself\u001b[0m\u001b[0;34m.\u001b[0m\u001b[0miterate\u001b[0m\u001b[0;34m(\u001b[0m\u001b[0mmax_iter\u001b[0m\u001b[0;34m=\u001b[0m\u001b[0mmax_iter\u001b[0m\u001b[0;34m,\u001b[0m \u001b[0mn_rewightings\u001b[0m\u001b[0;34m=\u001b[0m\u001b[0mn_rewightings\u001b[0m\u001b[0;34m)\u001b[0m\u001b[0;34m\u001b[0m\u001b[0;34m\u001b[0m\u001b[0m\n\u001b[0m\u001b[1;32m   1050\u001b[0m \u001b[0;34m\u001b[0m\u001b[0m\n\u001b[1;32m   1051\u001b[0m     \u001b[0;32mdef\u001b[0m \u001b[0m_update_param\u001b[0m\u001b[0;34m(\u001b[0m\u001b[0mself\u001b[0m\u001b[0;34m)\u001b[0m\u001b[0;34m:\u001b[0m\u001b[0;34m\u001b[0m\u001b[0;34m\u001b[0m\u001b[0m\n",
      "\u001b[0;32m/Users/tliaudat/opt/anaconda3/envs/mccd_env/lib/python3.6/site-packages/modopt/opt/algorithms.py\u001b[0m in \u001b[0;36miterate\u001b[0;34m(self, max_iter, n_rewightings)\u001b[0m\n\u001b[1;32m   1127\u001b[0m         \"\"\"\n\u001b[1;32m   1128\u001b[0m \u001b[0;34m\u001b[0m\u001b[0m\n\u001b[0;32m-> 1129\u001b[0;31m         \u001b[0mself\u001b[0m\u001b[0;34m.\u001b[0m\u001b[0m_run_alg\u001b[0m\u001b[0;34m(\u001b[0m\u001b[0mmax_iter\u001b[0m\u001b[0;34m)\u001b[0m\u001b[0;34m\u001b[0m\u001b[0;34m\u001b[0m\u001b[0m\n\u001b[0m\u001b[1;32m   1130\u001b[0m \u001b[0;34m\u001b[0m\u001b[0m\n\u001b[1;32m   1131\u001b[0m         \u001b[0;32mif\u001b[0m \u001b[0;32mnot\u001b[0m \u001b[0misinstance\u001b[0m\u001b[0;34m(\u001b[0m\u001b[0mself\u001b[0m\u001b[0;34m.\u001b[0m\u001b[0m_reweight\u001b[0m\u001b[0;34m,\u001b[0m \u001b[0mtype\u001b[0m\u001b[0;34m(\u001b[0m\u001b[0;32mNone\u001b[0m\u001b[0;34m)\u001b[0m\u001b[0;34m)\u001b[0m\u001b[0;34m:\u001b[0m\u001b[0;34m\u001b[0m\u001b[0;34m\u001b[0m\u001b[0m\n",
      "\u001b[0;32m/Users/tliaudat/opt/anaconda3/envs/mccd_env/lib/python3.6/site-packages/modopt/opt/algorithms.py\u001b[0m in \u001b[0;36m_run_alg\u001b[0;34m(self, max_iter)\u001b[0m\n\u001b[1;32m    256\u001b[0m         \u001b[0;32mif\u001b[0m \u001b[0mself\u001b[0m\u001b[0;34m.\u001b[0m\u001b[0mprogress\u001b[0m\u001b[0;34m:\u001b[0m\u001b[0;34m\u001b[0m\u001b[0;34m\u001b[0m\u001b[0m\n\u001b[1;32m    257\u001b[0m             \u001b[0;32mwith\u001b[0m \u001b[0mProgressBar\u001b[0m\u001b[0;34m(\u001b[0m\u001b[0mredirect_stdout\u001b[0m\u001b[0;34m=\u001b[0m\u001b[0;32mTrue\u001b[0m\u001b[0;34m,\u001b[0m \u001b[0mmax_value\u001b[0m\u001b[0;34m=\u001b[0m\u001b[0mmax_iter\u001b[0m\u001b[0;34m)\u001b[0m \u001b[0;32mas\u001b[0m \u001b[0mbar\u001b[0m\u001b[0;34m:\u001b[0m\u001b[0;34m\u001b[0m\u001b[0;34m\u001b[0m\u001b[0m\n\u001b[0;32m--> 258\u001b[0;31m                 \u001b[0mself\u001b[0m\u001b[0;34m.\u001b[0m\u001b[0m_iterations\u001b[0m\u001b[0;34m(\u001b[0m\u001b[0mmax_iter\u001b[0m\u001b[0;34m,\u001b[0m \u001b[0mbar\u001b[0m\u001b[0;34m=\u001b[0m\u001b[0mbar\u001b[0m\u001b[0;34m)\u001b[0m\u001b[0;34m\u001b[0m\u001b[0;34m\u001b[0m\u001b[0m\n\u001b[0m\u001b[1;32m    259\u001b[0m         \u001b[0;32melse\u001b[0m\u001b[0;34m:\u001b[0m\u001b[0;34m\u001b[0m\u001b[0;34m\u001b[0m\u001b[0m\n\u001b[1;32m    260\u001b[0m             \u001b[0mself\u001b[0m\u001b[0;34m.\u001b[0m\u001b[0m_iterations\u001b[0m\u001b[0;34m(\u001b[0m\u001b[0mmax_iter\u001b[0m\u001b[0;34m)\u001b[0m\u001b[0;34m\u001b[0m\u001b[0;34m\u001b[0m\u001b[0m\n",
      "\u001b[0;32m/Users/tliaudat/opt/anaconda3/envs/mccd_env/lib/python3.6/site-packages/modopt/opt/algorithms.py\u001b[0m in \u001b[0;36m_iterations\u001b[0;34m(self, max_iter, bar)\u001b[0m\n\u001b[1;32m    222\u001b[0m         \u001b[0;32mfor\u001b[0m \u001b[0midx\u001b[0m \u001b[0;32min\u001b[0m \u001b[0mrange\u001b[0m\u001b[0;34m(\u001b[0m\u001b[0mmax_iter\u001b[0m\u001b[0;34m)\u001b[0m\u001b[0;34m:\u001b[0m\u001b[0;34m\u001b[0m\u001b[0;34m\u001b[0m\u001b[0m\n\u001b[1;32m    223\u001b[0m             \u001b[0mself\u001b[0m\u001b[0;34m.\u001b[0m\u001b[0midx\u001b[0m \u001b[0;34m=\u001b[0m \u001b[0midx\u001b[0m\u001b[0;34m\u001b[0m\u001b[0;34m\u001b[0m\u001b[0m\n\u001b[0;32m--> 224\u001b[0;31m             \u001b[0mself\u001b[0m\u001b[0;34m.\u001b[0m\u001b[0m_update\u001b[0m\u001b[0;34m(\u001b[0m\u001b[0;34m)\u001b[0m\u001b[0;34m\u001b[0m\u001b[0;34m\u001b[0m\u001b[0m\n\u001b[0m\u001b[1;32m    225\u001b[0m \u001b[0;34m\u001b[0m\u001b[0m\n\u001b[1;32m    226\u001b[0m             \u001b[0;31m# Calling metrics every metric_call_period cycle\u001b[0m\u001b[0;34m\u001b[0m\u001b[0;34m\u001b[0m\u001b[0;34m\u001b[0m\u001b[0m\n",
      "\u001b[0;32m/Users/tliaudat/opt/anaconda3/envs/mccd_env/lib/python3.6/site-packages/modopt/opt/algorithms.py\u001b[0m in \u001b[0;36m_update\u001b[0;34m(self)\u001b[0m\n\u001b[1;32m   1082\u001b[0m         \"\"\"\n\u001b[1;32m   1083\u001b[0m         \u001b[0;31m# Step 1 from eq.9.\u001b[0m\u001b[0;34m\u001b[0m\u001b[0;34m\u001b[0m\u001b[0;34m\u001b[0m\u001b[0m\n\u001b[0;32m-> 1084\u001b[0;31m         \u001b[0mself\u001b[0m\u001b[0;34m.\u001b[0m\u001b[0m_grad\u001b[0m\u001b[0;34m.\u001b[0m\u001b[0mget_grad\u001b[0m\u001b[0;34m(\u001b[0m\u001b[0mself\u001b[0m\u001b[0;34m.\u001b[0m\u001b[0m_x_old\u001b[0m\u001b[0;34m)\u001b[0m\u001b[0;34m\u001b[0m\u001b[0;34m\u001b[0m\u001b[0m\n\u001b[0m\u001b[1;32m   1085\u001b[0m \u001b[0;34m\u001b[0m\u001b[0m\n\u001b[1;32m   1086\u001b[0m         x_prox = self._prox.op(self._x_old - self._tau * self._grad.grad -\n",
      "\u001b[0;32m/Users/tliaudat/opt/anaconda3/envs/mccd_env/lib/python3.6/site-packages/mccd-0.0.1-py3.6.egg/mccd/grads.py\u001b[0m in \u001b[0;36mget_grad\u001b[0;34m(self, x)\u001b[0m\n\u001b[1;32m    460\u001b[0m         \u001b[0;34mr\"\"\"Compute current iteration's gradient.\"\"\"\u001b[0m\u001b[0;34m\u001b[0m\u001b[0;34m\u001b[0m\u001b[0m\n\u001b[1;32m    461\u001b[0m         self.grad = self.MtX(self.obs_weights ** 2 *\n\u001b[0;32m--> 462\u001b[0;31m                              (self.MX(x) + self.FdH_glob - self.obs_data))\n\u001b[0m\u001b[1;32m    463\u001b[0m         \u001b[0;32mif\u001b[0m \u001b[0mself\u001b[0m\u001b[0;34m.\u001b[0m\u001b[0msave_iter_cost\u001b[0m\u001b[0;34m:\u001b[0m\u001b[0;34m\u001b[0m\u001b[0;34m\u001b[0m\u001b[0m\n\u001b[1;32m    464\u001b[0m             \u001b[0mself\u001b[0m\u001b[0;34m.\u001b[0m\u001b[0miter_cost\u001b[0m\u001b[0;34m.\u001b[0m\u001b[0mappend\u001b[0m\u001b[0;34m(\u001b[0m\u001b[0mself\u001b[0m\u001b[0;34m.\u001b[0m\u001b[0mcost\u001b[0m\u001b[0;34m(\u001b[0m\u001b[0mx\u001b[0m\u001b[0;34m)\u001b[0m\u001b[0;34m)\u001b[0m\u001b[0;34m\u001b[0m\u001b[0;34m\u001b[0m\u001b[0m\n",
      "\u001b[0;32m/Users/tliaudat/opt/anaconda3/envs/mccd_env/lib/python3.6/site-packages/mccd-0.0.1-py3.6.egg/mccd/grads.py\u001b[0m in \u001b[0;36mMX\u001b[0;34m(self, transf_S)\u001b[0m\n\u001b[1;32m    426\u001b[0m              for nf, A_i, shift_ker in zip(self.normfacs,\n\u001b[1;32m    427\u001b[0m                                            \u001b[0mself\u001b[0m\u001b[0;34m.\u001b[0m\u001b[0mA\u001b[0m\u001b[0;34m.\u001b[0m\u001b[0mT\u001b[0m\u001b[0;34m,\u001b[0m\u001b[0;34m\u001b[0m\u001b[0;34m\u001b[0m\u001b[0m\n\u001b[0;32m--> 428\u001b[0;31m                                            utils.reg_format(self.ker))])\n\u001b[0m\u001b[1;32m    429\u001b[0m         \u001b[0mself\u001b[0m\u001b[0;34m.\u001b[0m\u001b[0m_current_rec\u001b[0m \u001b[0;34m=\u001b[0m \u001b[0mutils\u001b[0m\u001b[0;34m.\u001b[0m\u001b[0mrca_format\u001b[0m\u001b[0;34m(\u001b[0m\u001b[0mdec_rec\u001b[0m\u001b[0;34m)\u001b[0m\u001b[0;34m\u001b[0m\u001b[0;34m\u001b[0m\u001b[0m\n\u001b[1;32m    430\u001b[0m         \u001b[0;32mreturn\u001b[0m \u001b[0mself\u001b[0m\u001b[0;34m.\u001b[0m\u001b[0m_current_rec\u001b[0m\u001b[0;34m\u001b[0m\u001b[0;34m\u001b[0m\u001b[0m\n",
      "\u001b[0;32m/Users/tliaudat/opt/anaconda3/envs/mccd_env/lib/python3.6/site-packages/mccd-0.0.1-py3.6.egg/mccd/grads.py\u001b[0m in \u001b[0;36m<listcomp>\u001b[0;34m(.0)\u001b[0m\n\u001b[1;32m    424\u001b[0m         dec_rec = np.array(\n\u001b[1;32m    425\u001b[0m             [nf * utils.degradation_op(S.dot(A_i), shift_ker, self.D)\n\u001b[0;32m--> 426\u001b[0;31m              for nf, A_i, shift_ker in zip(self.normfacs,\n\u001b[0m\u001b[1;32m    427\u001b[0m                                            \u001b[0mself\u001b[0m\u001b[0;34m.\u001b[0m\u001b[0mA\u001b[0m\u001b[0;34m.\u001b[0m\u001b[0mT\u001b[0m\u001b[0;34m,\u001b[0m\u001b[0;34m\u001b[0m\u001b[0;34m\u001b[0m\u001b[0m\n\u001b[1;32m    428\u001b[0m                                            utils.reg_format(self.ker))])\n",
      "\u001b[0;32m/Users/tliaudat/opt/anaconda3/envs/mccd_env/lib/python3.6/site-packages/mccd-0.0.1-py3.6.egg/mccd/utils.py\u001b[0m in \u001b[0;36mdegradation_op\u001b[0;34m(X, shift_ker, D)\u001b[0m\n\u001b[1;32m    730\u001b[0m \u001b[0;32mdef\u001b[0m \u001b[0mdegradation_op\u001b[0m\u001b[0;34m(\u001b[0m\u001b[0mX\u001b[0m\u001b[0;34m,\u001b[0m \u001b[0mshift_ker\u001b[0m\u001b[0;34m,\u001b[0m \u001b[0mD\u001b[0m\u001b[0;34m)\u001b[0m\u001b[0;34m:\u001b[0m\u001b[0;34m\u001b[0m\u001b[0;34m\u001b[0m\u001b[0m\n\u001b[1;32m    731\u001b[0m     \u001b[0;34mr\"\"\"Shift and decimate fine-grid image.\"\"\"\u001b[0m\u001b[0;34m\u001b[0m\u001b[0;34m\u001b[0m\u001b[0m\n\u001b[0;32m--> 732\u001b[0;31m     return decim(scisig.fftconvolve(X, shift_ker, mode='same'),\n\u001b[0m\u001b[1;32m    733\u001b[0m                  D, av_en=0)\n\u001b[1;32m    734\u001b[0m \u001b[0;34m\u001b[0m\u001b[0m\n",
      "\u001b[0;32m/Users/tliaudat/opt/anaconda3/envs/mccd_env/lib/python3.6/site-packages/scipy/signal/signaltools.py\u001b[0m in \u001b[0;36mfftconvolve\u001b[0;34m(in1, in2, mode, axes)\u001b[0m\n\u001b[1;32m    536\u001b[0m              for i in range(in1.ndim)]\n\u001b[1;32m    537\u001b[0m \u001b[0;34m\u001b[0m\u001b[0m\n\u001b[0;32m--> 538\u001b[0;31m     \u001b[0mret\u001b[0m \u001b[0;34m=\u001b[0m \u001b[0m_freq_domain_conv\u001b[0m\u001b[0;34m(\u001b[0m\u001b[0min1\u001b[0m\u001b[0;34m,\u001b[0m \u001b[0min2\u001b[0m\u001b[0;34m,\u001b[0m \u001b[0maxes\u001b[0m\u001b[0;34m,\u001b[0m \u001b[0mshape\u001b[0m\u001b[0;34m,\u001b[0m \u001b[0mcalc_fast_len\u001b[0m\u001b[0;34m=\u001b[0m\u001b[0;32mTrue\u001b[0m\u001b[0;34m)\u001b[0m\u001b[0;34m\u001b[0m\u001b[0;34m\u001b[0m\u001b[0m\n\u001b[0m\u001b[1;32m    539\u001b[0m \u001b[0;34m\u001b[0m\u001b[0m\n\u001b[1;32m    540\u001b[0m     \u001b[0;32mreturn\u001b[0m \u001b[0m_apply_conv_mode\u001b[0m\u001b[0;34m(\u001b[0m\u001b[0mret\u001b[0m\u001b[0;34m,\u001b[0m \u001b[0ms1\u001b[0m\u001b[0;34m,\u001b[0m \u001b[0ms2\u001b[0m\u001b[0;34m,\u001b[0m \u001b[0mmode\u001b[0m\u001b[0;34m,\u001b[0m \u001b[0maxes\u001b[0m\u001b[0;34m)\u001b[0m\u001b[0;34m\u001b[0m\u001b[0;34m\u001b[0m\u001b[0m\n",
      "\u001b[0;32m/Users/tliaudat/opt/anaconda3/envs/mccd_env/lib/python3.6/site-packages/scipy/signal/signaltools.py\u001b[0m in \u001b[0;36m_freq_domain_conv\u001b[0;34m(in1, in2, axes, shape, calc_fast_len)\u001b[0m\n\u001b[1;32m    376\u001b[0m         \u001b[0mfft\u001b[0m\u001b[0;34m,\u001b[0m \u001b[0mifft\u001b[0m \u001b[0;34m=\u001b[0m \u001b[0msp_fft\u001b[0m\u001b[0;34m.\u001b[0m\u001b[0mfftn\u001b[0m\u001b[0;34m,\u001b[0m \u001b[0msp_fft\u001b[0m\u001b[0;34m.\u001b[0m\u001b[0mifftn\u001b[0m\u001b[0;34m\u001b[0m\u001b[0;34m\u001b[0m\u001b[0m\n\u001b[1;32m    377\u001b[0m \u001b[0;34m\u001b[0m\u001b[0m\n\u001b[0;32m--> 378\u001b[0;31m     \u001b[0msp1\u001b[0m \u001b[0;34m=\u001b[0m \u001b[0mfft\u001b[0m\u001b[0;34m(\u001b[0m\u001b[0min1\u001b[0m\u001b[0;34m,\u001b[0m \u001b[0mfshape\u001b[0m\u001b[0;34m,\u001b[0m \u001b[0maxes\u001b[0m\u001b[0;34m=\u001b[0m\u001b[0maxes\u001b[0m\u001b[0;34m)\u001b[0m\u001b[0;34m\u001b[0m\u001b[0;34m\u001b[0m\u001b[0m\n\u001b[0m\u001b[1;32m    379\u001b[0m     \u001b[0msp2\u001b[0m \u001b[0;34m=\u001b[0m \u001b[0mfft\u001b[0m\u001b[0;34m(\u001b[0m\u001b[0min2\u001b[0m\u001b[0;34m,\u001b[0m \u001b[0mfshape\u001b[0m\u001b[0;34m,\u001b[0m \u001b[0maxes\u001b[0m\u001b[0;34m=\u001b[0m\u001b[0maxes\u001b[0m\u001b[0;34m)\u001b[0m\u001b[0;34m\u001b[0m\u001b[0;34m\u001b[0m\u001b[0m\n\u001b[1;32m    380\u001b[0m \u001b[0;34m\u001b[0m\u001b[0m\n",
      "\u001b[0;32m/Users/tliaudat/opt/anaconda3/envs/mccd_env/lib/python3.6/site-packages/scipy/fft/_backend.py\u001b[0m in \u001b[0;36m__ua_function__\u001b[0;34m(method, args, kwargs)\u001b[0m\n\u001b[1;32m     21\u001b[0m         \u001b[0;32mif\u001b[0m \u001b[0mfn\u001b[0m \u001b[0;32mis\u001b[0m \u001b[0;32mNone\u001b[0m\u001b[0;34m:\u001b[0m\u001b[0;34m\u001b[0m\u001b[0;34m\u001b[0m\u001b[0m\n\u001b[1;32m     22\u001b[0m             \u001b[0;32mreturn\u001b[0m \u001b[0mNotImplemented\u001b[0m\u001b[0;34m\u001b[0m\u001b[0;34m\u001b[0m\u001b[0m\n\u001b[0;32m---> 23\u001b[0;31m         \u001b[0;32mreturn\u001b[0m \u001b[0mfn\u001b[0m\u001b[0;34m(\u001b[0m\u001b[0;34m*\u001b[0m\u001b[0margs\u001b[0m\u001b[0;34m,\u001b[0m \u001b[0;34m**\u001b[0m\u001b[0mkwargs\u001b[0m\u001b[0;34m)\u001b[0m\u001b[0;34m\u001b[0m\u001b[0;34m\u001b[0m\u001b[0m\n\u001b[0m\u001b[1;32m     24\u001b[0m \u001b[0;34m\u001b[0m\u001b[0m\n\u001b[1;32m     25\u001b[0m \u001b[0;34m\u001b[0m\u001b[0m\n",
      "\u001b[0;32m/Users/tliaudat/opt/anaconda3/envs/mccd_env/lib/python3.6/site-packages/scipy/fft/_pocketfft/basic.py\u001b[0m in \u001b[0;36mr2cn\u001b[0;34m(forward, x, s, axes, norm, overwrite_x, workers, plan)\u001b[0m\n\u001b[1;32m    221\u001b[0m \u001b[0;34m\u001b[0m\u001b[0m\n\u001b[1;32m    222\u001b[0m     \u001b[0;31m# Note: overwrite_x is not utilized\u001b[0m\u001b[0;34m\u001b[0m\u001b[0;34m\u001b[0m\u001b[0;34m\u001b[0m\u001b[0m\n\u001b[0;32m--> 223\u001b[0;31m     \u001b[0;32mreturn\u001b[0m \u001b[0mpfft\u001b[0m\u001b[0;34m.\u001b[0m\u001b[0mr2c\u001b[0m\u001b[0;34m(\u001b[0m\u001b[0mtmp\u001b[0m\u001b[0;34m,\u001b[0m \u001b[0maxes\u001b[0m\u001b[0;34m,\u001b[0m \u001b[0mforward\u001b[0m\u001b[0;34m,\u001b[0m \u001b[0mnorm\u001b[0m\u001b[0;34m,\u001b[0m \u001b[0;32mNone\u001b[0m\u001b[0;34m,\u001b[0m \u001b[0mworkers\u001b[0m\u001b[0;34m)\u001b[0m\u001b[0;34m\u001b[0m\u001b[0;34m\u001b[0m\u001b[0m\n\u001b[0m\u001b[1;32m    224\u001b[0m \u001b[0;34m\u001b[0m\u001b[0m\n\u001b[1;32m    225\u001b[0m \u001b[0;34m\u001b[0m\u001b[0m\n",
      "\u001b[0;31mKeyboardInterrupt\u001b[0m: "
     ]
    }
   ],
   "source": [
    "# Parameters\n",
    "input_path = './../data/sextractor_preprocessed/'\n",
    "output_dir = './../data/outputs/'\n",
    "catalog_id = 2086592\n",
    "verbose = True\n",
    "input_catalog_path = input_path + train_save_name + separator + '%07d'%catalog_id + save_extension\n",
    "\n",
    "train_starcat = fits.open(input_catalog_path)[1]\n",
    "\n",
    "\n",
    "# MCCD model training\n",
    "mccd_aux.mccd_fit(starcat=train_starcat, mccd_inst_kw=mccd_inst_kw, mccd_fit_kw=mccd_fit_kw,\n",
    "         output_dir=output_dir, catalog_id=catalog_id, sex_thresh=-1e5, use_SNR_weight=False,\n",
    "         verbose=verbose)\n"
   ]
  },
  {
   "cell_type": "markdown",
   "metadata": {},
   "source": [
    "# Validation"
   ]
  },
  {
   "cell_type": "code",
   "execution_count": 9,
   "metadata": {},
   "outputs": [],
   "source": [
    "# Parameters\n",
    "output_dir = './../data/mccd_inputs/'\n",
    "mccd_model_path = output_dir + 'fitted_model2086592.npy'\n",
    "\n",
    "catalog_id = 2086592\n",
    "input_catalog_path = input_path + test_save_name + separator + '%07d'%catalog_id + save_extension\n",
    "test_starcat = fits.open(input_catalog_path)[1]\n",
    "\n",
    "\n",
    "val_dict = mccd_aux.mccd_validation(mccd_model_path=mccd_model_path, testcat=test_starcat,\n",
    "                         apply_degradation=True, mccd_debug=False, global_pol_interp=False,\n",
    "                         sex_thresh=-1e5)\n",
    "\n"
   ]
  },
  {
   "cell_type": "markdown",
   "metadata": {},
   "source": [
    "## Calculate the statistics you prefer "
   ]
  },
  {
   "cell_type": "code",
   "execution_count": 10,
   "metadata": {},
   "outputs": [
    {
     "data": {
      "text/plain": [
       "dict_keys(['PSF_VIGNET_LIST', 'PSF_MOM_LIST', 'STAR_MOM_LIST', 'GLOB_POSITION_IMG_LIST', 'VIGNET_LIST', 'MASK_LIST', 'CCD_ID_LIST', 'RA_LIST', 'DEC_LIST'])"
      ]
     },
     "execution_count": 10,
     "metadata": {},
     "output_type": "execute_result"
    }
   ],
   "source": [
    "val_dict.keys()"
   ]
  },
  {
   "cell_type": "code",
   "execution_count": 11,
   "metadata": {},
   "outputs": [],
   "source": [
    "test_stars = val_dict['VIGNET_LIST']\n",
    "matched_PSFs = val_dict['PSF_VIGNET_LIST']\n",
    "\n",
    "e1_psf = val_dict['PSF_MOM_LIST'][:,0]\n",
    "e2_psf = val_dict['PSF_MOM_LIST'][:,1]\n",
    "R2_psf = 2.*val_dict['PSF_MOM_LIST'][:,2]**2\n",
    "\n",
    "e1_star = val_dict['STAR_MOM_LIST'][:,0]\n",
    "e2_star = val_dict['STAR_MOM_LIST'][:,1]\n",
    "R2_star = 2.*val_dict['STAR_MOM_LIST'][:,2]**2\n"
   ]
  },
  {
   "cell_type": "code",
   "execution_count": 12,
   "metadata": {},
   "outputs": [
    {
     "name": "stdout",
     "output_type": "stream",
     "text": [
      "Pixel RMSE = 6.40913e-05\n",
      "e1 RMSE = 5.53192e-03\n",
      "e2 RMSE = 7.70202e-03\n",
      "R2 RMSE = 8.69793e-03\n"
     ]
    }
   ],
   "source": [
    "pix_RMSE = np.sqrt(np.mean((test_stars - matched_PSFs)**2))\n",
    "e1_RMSE = np.sqrt(np.mean((e1_star - e1_psf)**2))\n",
    "e2_RMSE = np.sqrt(np.mean((e2_star - e2_psf)**2))\n",
    "R2_RMSE = np.sqrt(np.mean(((R2_star - R2_psf)/R2_star)**2))\n",
    "\n",
    "print('Pixel RMSE = %.5e'%(pix_RMSE))\n",
    "print('e1 RMSE = %.5e'%(e1_RMSE))\n",
    "print('e2 RMSE = %.5e'%(e2_RMSE))\n",
    "print('R2 RMSE = %.5e'%(R2_RMSE))\n",
    "\n"
   ]
  },
  {
   "cell_type": "markdown",
   "metadata": {},
   "source": [
    "### Plot a random test star and its model reconstruction"
   ]
  },
  {
   "cell_type": "code",
   "execution_count": 15,
   "metadata": {},
   "outputs": [
    {
     "data": {
      "image/png": "[encoded data removed]",
      "text/plain": [
       "<Figure size 600x600 with 2 Axes>"
      ]
     },
     "metadata": {
      "needs_background": "light"
     },
     "output_type": "display_data"
    },
    {
     "data": {
      "image/png": "[encoded data removed]",
      "text/plain": [
       "<Figure size 600x600 with 2 Axes>"
      ]
     },
     "metadata": {
      "needs_background": "light"
     },
     "output_type": "display_data"
    },
    {
     "data": {
      "image/png": "[encoded data removed]",
      "text/plain": [
       "<Figure size 600x600 with 2 Axes>"
      ]
     },
     "metadata": {
      "needs_background": "light"
     },
     "output_type": "display_data"
    }
   ],
   "source": [
    "idx = random.randint(0,test_stars.shape[0])\n",
    "\n",
    "plot_fun(test_stars[idx,:,:])\n",
    "plot_fun(matched_PSFs[idx,:,:])\n",
    "plot_fun(test_stars[idx,:,:] - matched_PSFs[idx,:,:])\n",
    "\n"
   ]
  },
  {
   "cell_type": "code",
   "execution_count": null,
   "metadata": {},
   "outputs": [],
   "source": []
  },
  {
   "cell_type": "code",
   "execution_count": null,
   "metadata": {},
   "outputs": [],
   "source": []
  }
 ],
 "metadata": {
  "kernelspec": {
   "display_name": "Python 3",
   "language": "python",
   "name": "python3"
  },
  "language_info": {
   "codemirror_mode": {
    "name": "ipython",
    "version": 3
   },
   "file_extension": ".py",
   "mimetype": "text/x-python",
   "name": "python",
   "nbconvert_exporter": "python",
   "pygments_lexer": "ipython3",
   "version": "3.6.12"
  },
  "varInspector": {
   "cols": {
    "lenName": 16,
    "lenType": 16,
    "lenVar": 40
   },
   "kernels_config": {
    "python": {
     "delete_cmd_postfix": "",
     "delete_cmd_prefix": "del ",
     "library": "var_list.py",
     "varRefreshCmd": "print(var_dic_list())"
    },
    "r": {
     "delete_cmd_postfix": ") ",
     "delete_cmd_prefix": "rm(",
     "library": "var_list.r",
     "varRefreshCmd": "cat(var_dic_list()) "
    }
   },
   "types_to_exclude": [
    "module",
    "function",
    "builtin_function_or_method",
    "instance",
    "_Feature"
   ],
   "window_display": false
  }
 },
 "nbformat": 4,
 "nbformat_minor": 4
}
